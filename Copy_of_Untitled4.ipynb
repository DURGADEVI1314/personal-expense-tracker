{
  "nbformat": 4,
  "nbformat_minor": 0,
  "metadata": {
    "colab": {
      "provenance": [],
      "authorship_tag": "ABX9TyOuic7HOB+Arj0lbZU9bWDx",
      "include_colab_link": true
    },
    "kernelspec": {
      "name": "python3",
      "display_name": "Python 3"
    },
    "language_info": {
      "name": "python"
    }
  },
  "cells": [
    {
      "cell_type": "markdown",
      "metadata": {
        "id": "view-in-github",
        "colab_type": "text"
      },
      "source": [
        "<a href=\"https://colab.research.google.com/github/DURGADEVI1314/personal-expense-tracker/blob/main/Copy_of_Untitled4.ipynb\" target=\"_parent\"><img src=\"https://colab.research.google.com/assets/colab-badge.svg\" alt=\"Open In Colab\"/></a>"
      ]
    },
    {
      "cell_type": "code",
      "source": [
        "import json\n",
        "import os\n",
        "from datetime import datetime\n",
        "\n",
        "# Function to load existing expenses from the file\n",
        "def load_expenses(filename=\"expenses.json\"):\n",
        "    if os.path.exists(filename):\n",
        "        with open(filename, \"r\") as file:\n",
        "            return json.load(file)\n",
        "    return []\n",
        "\n",
        "# Function to save expenses to the file\n",
        "def save_expenses(expenses, filename=\"expenses.json\"):\n",
        "    with open(filename, \"w\") as file:\n",
        "        json.dump(expenses, file, indent=4)\n",
        "\n",
        "# Function to add an expense\n",
        "def add_expense(expenses):\n",
        "    amount = float(input(\"Enter the amount spent: \"))\n",
        "    category = input(\"Enter the expense category (e.g., food, transport, entertainment): \")\n",
        "    description = input(\"Enter a short description: \")\n",
        "    date = datetime.now().strftime(\"%Y-%m-%d %H:%M:%S\")\n",
        "\n",
        "    expense = {\n",
        "        \"amount\": amount,\n",
        "        \"category\": category,\n",
        "        \"description\": description,\n",
        "        \"date\": date\n",
        "    }\n",
        "    expenses.append(expense)\n",
        "    save_expenses(expenses)\n",
        "    print(\"Expense added successfully.\")\n",
        "\n",
        "# Function to view all expenses\n",
        "def view_expenses(expenses):\n",
        "    if not expenses:\n",
        "        print(\"No expenses recorded.\")\n",
        "    else:\n",
        "        for i, expense in enumerate(expenses, 1):\n",
        "            print(f\"{i}. {expense['amount']} - {expense['category']} - {expense['description']} - {expense['date']}\")\n",
        "\n",
        "# Function to view a summary of expenses by category\n",
        "def expense_summary(expenses):\n",
        "    category_summary = {}\n",
        "    for expense in expenses:\n",
        "        category = expense[\"category\"]\n",
        "        amount = expense[\"amount\"]\n",
        "        if category in category_summary:\n",
        "            category_summary[category] += amount\n",
        "        else:\n",
        "            category_summary[category] = amount\n",
        "\n",
        "    if category_summary:\n",
        "        for category, total in category_summary.items():\n",
        "            print(f\"{category}: {total}\")\n",
        "    else:\n",
        "        print(\"No expenses recorded.\")\n",
        "\n",
        "# Function to view the total of all expenses\n",
        "def total_expenses(expenses):\n",
        "    total = sum(expense[\"amount\"] for expense in expenses)\n",
        "    print(f\"Total Expenses: {total}\")\n",
        "\n",
        "# Main function to run the app\n",
        "def main():\n",
        "    expenses = load_expenses()\n",
        "    while True:\n",
        "        print(\"\\nExpense Tracker\")\n",
        "        print(\"1. Add Expense\")\n",
        "        print(\"2. View Expenses\")\n",
        "        print(\"3. View Expense Summary by Category\")\n",
        "        print(\"4. View Total Expenses\")\n",
        "        print(\"5. Exit\")\n",
        "\n",
        "        choice = input(\"Enter your choice: \")\n",
        "\n",
        "        if choice == \"1\":\n",
        "            add_expense(expenses)\n",
        "        elif choice == \"2\":\n",
        "            view_expenses(expenses)\n",
        "        elif choice == \"3\":\n",
        "            expense_summary(expenses)\n",
        "        elif choice == \"4\":\n",
        "            total_expenses(expenses)\n",
        "        elif choice == \"5\":\n",
        "            print(\"Exiting the app.\")\n",
        "            break\n",
        "        else:\n",
        "            print(\"Invalid choice, please try again.\")\n",
        "\n",
        "if __name__ == \"__main__\":\n",
        "    main()\n"
      ],
      "metadata": {
        "colab": {
          "base_uri": "https://localhost:8080/"
        },
        "id": "Y42ieoCZ3HLV",
        "outputId": "10df08d2-2268-4635-d8c9-9f7ca8f1ff98"
      },
      "execution_count": null,
      "outputs": [
        {
          "output_type": "stream",
          "name": "stdout",
          "text": [
            "\n",
            "Expense Tracker\n",
            "1. Add Expense\n",
            "2. View Expenses\n",
            "3. View Expense Summary by Category\n",
            "4. View Total Expenses\n",
            "5. Exit\n",
            "Enter your choice: 2\n",
            "No expenses recorded.\n",
            "\n",
            "Expense Tracker\n",
            "1. Add Expense\n",
            "2. View Expenses\n",
            "3. View Expense Summary by Category\n",
            "4. View Total Expenses\n",
            "5. Exit\n"
          ]
        }
      ]
    }
  ]
}